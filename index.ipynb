{
 "cells": [
  {
   "cell_type": "markdown",
   "metadata": {},
   "source": [
    "# Recursive Functions - Lab\n",
    "\n",
    "## Introduction\n",
    "\n",
    "Now that you've seen a little preview of recursive functions, it's time to give them a try!\n",
    "\n",
    "## Objectives\n",
    "You will be able to:\n",
    "* Understand and use the concept of a recursive function \n",
    "* Understand scope in the context of recursive functions\n",
    "* Understand and compare depth first versus breadth first searches\n",
    "\n",
    "## Fibonacci\n",
    "\n",
    "The Fibonacci sequence starts off:\n",
    "1,1,2,3,5,8,13,21,34,...\n",
    "\n",
    "Each number is the sum of the two preceding. Write a recursive function that calculates the nth number of the Fibonacci sequence. For example, our sequence above would correspond to:\n",
    "\n",
    "fib(1) = 1 #The 1st element in the sequence is 1\n",
    "\n",
    "fib(2) = 1 #The 2nd element in the sequence is 1\n",
    "\n",
    "fib(3) = 2 #The 3rd element in the sequence is 2\n",
    "\n",
    "fib(4) = 3 #The 4th element in the sequence is 3\n",
    "\n",
    "fib(5) = 5 #The 5th element in the sequence is 5\n",
    "\n",
    "fib(6) = 8 #The 6th element in the sequence is 8\n",
    "\n",
    "fib(7) = 13 #The 7th element in the sequence is 13\n",
    "\n",
    "fib(8) = 21 #The 8th element in the sequence is 21\n",
    "\n",
    "fib(9) = 34 #The 9th element in the sequence is 34"
   ]
  },
  {
   "cell_type": "code",
   "execution_count": 1,
   "metadata": {},
   "outputs": [],
   "source": [
    "#Your code here\n",
    "def fib(n):\n",
    "    fib_list = [1,1]\n",
    "    i=2\n",
    "    while len(fib_list) <= n-1:\n",
    "        new_num = fib_list[i-1]+fib_list[i-2]\n",
    "        fib_list.append(new_num)\n",
    "        i += 1\n",
    "    return fib_list[n-1]"
   ]
  },
  {
   "cell_type": "code",
   "execution_count": 2,
   "metadata": {
    "scrolled": false
   },
   "outputs": [
    {
     "data": {
      "text/plain": [
       "2"
      ]
     },
     "execution_count": 2,
     "metadata": {},
     "output_type": "execute_result"
    }
   ],
   "source": [
    "fib(3)"
   ]
  },
  {
   "cell_type": "code",
   "execution_count": 3,
   "metadata": {},
   "outputs": [],
   "source": [
    "# OR\n",
    "def fib2(n):\n",
    "    if n < 1:\n",
    "        return \"N must be an integer greater then 1\"\n",
    "    elif n in [1,2]:\n",
    "            return 1\n",
    "    else:\n",
    "        return fib2(n-1) + fib2(n-2)"
   ]
  },
  {
   "cell_type": "code",
   "execution_count": 4,
   "metadata": {
    "scrolled": false
   },
   "outputs": [
    {
     "data": {
      "text/plain": [
       "2"
      ]
     },
     "execution_count": 4,
     "metadata": {},
     "output_type": "execute_result"
    }
   ],
   "source": [
    "fib2(3)"
   ]
  },
  {
   "cell_type": "markdown",
   "metadata": {},
   "source": [
    "## Flat List\n",
    "\n",
    "Write a function that takes a nested list and flattens it to a list of ints, floats and strings.\n",
    "For example the nested list [1,[2,3[4,5,6]], 7, [8], [9,10]] would become [1,2,3,4,5,6,7,8,9,10] or \n",
    "[1,2[3,4,[5]]] would become [1,2,3,4,5].\n",
    "\n",
    "> **Note**: Be careful how you initialize your function! See [this link](https://docs.quantifiedcode.com/python-anti-patterns/correctness/mutable_default_value_as_argument.html) for some potential pitfalls you could encounter if you're not careful!"
   ]
  },
  {
   "cell_type": "code",
   "execution_count": 5,
   "metadata": {},
   "outputs": [],
   "source": [
    "#Your code here\n",
    "def flat_list(L, flattened=None):\n",
    "    print(\"Current: \", L)\n",
    "    if flattened == None:\n",
    "        flattened = []\n",
    "    for i in L:\n",
    "        if type(i) == list:\n",
    "            flat_list(i, flattened)\n",
    "        else:\n",
    "            flattened.append(i)\n",
    "    return flattened"
   ]
  },
  {
   "cell_type": "code",
   "execution_count": 6,
   "metadata": {},
   "outputs": [
    {
     "name": "stdout",
     "output_type": "stream",
     "text": [
      "Current:  [1, [2, 3, [4, 5, 6]], 7, [8], [9, 10]]\n",
      "Current:  [2, 3, [4, 5, 6]]\n",
      "Current:  [4, 5, 6]\n",
      "Current:  [8]\n",
      "Current:  [9, 10]\n"
     ]
    },
    {
     "data": {
      "text/plain": [
       "[1, 2, 3, 4, 5, 6, 7, 8, 9, 10]"
      ]
     },
     "execution_count": 6,
     "metadata": {},
     "output_type": "execute_result"
    }
   ],
   "source": [
    "L = [1,[2,3,[4,5,6]], 7, [8], [9,10]]\n",
    "flat_list(L)\n"
   ]
  },
  {
   "cell_type": "markdown",
   "metadata": {},
   "source": [
    "## Depth vs Breadth First Search\n",
    "\n",
    "Did you use breadth or depth first recursive calls above? Explain."
   ]
  },
  {
   "cell_type": "markdown",
   "metadata": {},
   "source": [
    "I used breadth first recursive calls, which goes through one layer at a time."
   ]
  },
  {
   "cell_type": "markdown",
   "metadata": {},
   "source": [
    "## Summary\n",
    "Well done! Recursive functions are an advanced topic in Python and you got some good practice tackling classic problems here."
   ]
  }
 ],
 "metadata": {
  "kernelspec": {
   "display_name": "Python 3",
   "language": "python",
   "name": "python3"
  },
  "language_info": {
   "codemirror_mode": {
    "name": "ipython",
    "version": 3
   },
   "file_extension": ".py",
   "mimetype": "text/x-python",
   "name": "python",
   "nbconvert_exporter": "python",
   "pygments_lexer": "ipython3",
   "version": "3.7.3"
  }
 },
 "nbformat": 4,
 "nbformat_minor": 2
}
